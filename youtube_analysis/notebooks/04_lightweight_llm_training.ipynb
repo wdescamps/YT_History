{
 "cells": [
  {
   "cell_type": "markdown",
   "metadata": {},
   "source": [
    "# Fine-tuning DistilGPT2 on YouTube Video Titles"
   ]
  },
  {
   "cell_type": "code",
   "execution_count": null,
   "metadata": {},
   "outputs": [],
   "source": [
    "import pandas as pd\n",
    "\n",
    "# Define the path to the cleaned data file\n",
    "cleaned_data_path = '../data/cleaned_watch_history.csv'\n",
    "\n",
    "# Load the CSV file into a pandas DataFrame\n",
    "try:\n",
    "    df = pd.read_csv(cleaned_data_path, parse_dates=['timestamp_utc'])\n",
    "    print(f\"Successfully loaded {cleaned_data_path}\")\n",
    "except FileNotFoundError:\n",
    "    print(f\"Error: The file {cleaned_data_path} was not found. Please ensure the 01_data_cleaning notebook ran successfully.\")\n",
    "    df = pd.DataFrame(columns=['title', 'video_url', 'channel_name', 'timestamp_utc'])\n",
    "    df['timestamp_utc'] = pd.to_datetime(df['timestamp_utc'])\n",
    "\n",
    "# Ensure 'cleaned_title' column exists or create it (logic adapted from notebook 03)\n",
    "if 'cleaned_title' not in df.columns or df['cleaned_title'].isnull().all():\n",
    "    print(\"'cleaned_title' not found or is empty in CSV. Running preprocessing to generate it from 'title'...\")\n",
    "    import nltk\n",
    "    import string\n",
    "    from nltk.corpus import stopwords\n",
    "    from nltk.tokenize import word_tokenize\n",
    "    try:\n",
    "        stopwords.words('english')\n",
    "    except LookupError:\n",
    "        nltk.download('stopwords', quiet=True)\n",
    "    try:\n",
    "        word_tokenize('test')\n",
    "    except LookupError:\n",
    "        nltk.download('punkt', quiet=True)\n",
    "    stop_words_set = set(stopwords.words('english'))\n",
    "    punctuations_set = string.punctuation\n",
    "    def preprocess_text_for_llm(text):\n",
    "        if pd.isna(text) or not text.strip(): return \"\"\n",
    "        text = str(text).lower()\n",
    "        tokens = word_tokenize(text)\n",
    "        tokens = [word for word in tokens if word not in punctuations_set and word.isalpha()]\n",
    "        tokens = [word for word in tokens if word not in stop_words_set]\n",
    "        return ' '.join(tokens)\n",
    "    if 'title' in df.columns:\n",
    "        df['cleaned_title'] = df['title'].apply(preprocess_text_for_llm)\n",
    "        print(\"Finished preprocessing 'title' into 'cleaned_title'.\")\n",
    "    else:\n",
    "        print(\"Error: 'title' column missing, cannot generate 'cleaned_title'. Using empty strings.\")\n",
    "        df['cleaned_title'] = \"\"\n",
    "else:\n",
    "    print(\"'cleaned_title' column found in CSV.\")\n",
    "\n",
    "# Drop rows where cleaned_title is NaN or empty\n",
    "df.dropna(subset=['cleaned_title'], inplace=True)\n",
    "df = df[df['cleaned_title'].str.strip() != '']\n",
    "\n",
    "titles_for_training = df['cleaned_title'].tolist()\n",
    "print(f\"\\nNumber of titles available for training: {len(titles_for_training)}\")\n",
    "print(\"Sample titles for training:\")\n",
    "for title in titles_for_training[:5]:\n",
    "    print(title)"
   ]
  },
  {
   "cell_type": "markdown",
   "metadata": {},
   "source": [
    "## Prepare Text Data and Tokenize"
   ]
  },
  {
   "cell_type": "code",
   "execution_count": null,
   "metadata": {},
   "outputs": [],
   "source": [
    "from transformers import AutoTokenizer\n",
    "\n",
    "model_name = 'distilgpt2' # Keep this consistent\n",
    "tokenizer = None # Initialize tokenizer\n",
    "encodings = {'input_ids': []} # Initialize encodings\n",
    "\n",
    "try:\n",
    "    tokenizer = AutoTokenizer.from_pretrained(model_name)\n",
    "    print(f\"Tokenizer for '{model_name}' loaded successfully.\")\n",
    "except Exception as e:\n",
    "    print(f\"Error loading tokenizer: {e}\")\n",
    "\n",
    "if tokenizer:\n",
    "    if tokenizer.pad_token is None:\n",
    "        tokenizer.pad_token = tokenizer.eos_token\n",
    "        print(f\"Set tokenizer.pad_token to tokenizer.eos_token: {tokenizer.eos_token}\")\n",
    "\n",
    "    if titles_for_training:\n",
    "        encodings = tokenizer(titles_for_training, truncation=True, padding=True, max_length=128)\n",
    "        print(f\"\\nTokenized {len(encodings['input_ids'])} titles.\")\n",
    "        if encodings['input_ids']:\n",
    "             print(\"Example of tokenized input_ids for the first title:\")\n",
    "             print(encodings['input_ids'][0])\n",
    "    else:\n",
    "        print(\"No titles available for tokenization.\")\n",
    "else:\n",
    "    print(\"Tokenizer not loaded. Cannot proceed with tokenization.\")"
   ]
  },
  {
   "cell_type": "markdown",
   "metadata": {},
   "source": [
    "## Create PyTorch Dataset and DataLoader"
   ]
  },
  {
   "cell_type": "code",
   "execution_count": null,
   "metadata": {},
   "outputs": [],
   "source": [
    "import torch\n",
    "from torch.utils.data import Dataset, DataLoader\n",
    "\n",
    "dataset = None # Initialize dataset\n",
    "dataloader = None # Initialize dataloader\n",
    "\n",
    "class YouTubeTitlesDataset(Dataset):\n",
    "    def __init__(self, tokenized_input_ids):\n",
    "        self.input_ids = tokenized_input_ids\n",
    "\n",
    "    def __len__(self):\n",
    "        return len(self.input_ids)\n",
    "\n",
    "    def __getitem__(self, idx):\n",
    "        item_input_ids = torch.tensor(self.input_ids[idx], dtype=torch.long)\n",
    "        return {'input_ids': item_input_ids, 'labels': item_input_ids.clone()}\n",
    "\n",
    "if encodings and encodings['input_ids']:\n",
    "    dataset = YouTubeTitlesDataset(encodings['input_ids'])\n",
    "    print(f\"\\nCreated dataset with {len(dataset)} samples.\")\n",
    "    if len(dataset) > 0:\n",
    "      sample_item = dataset[0]\n",
    "      print(f\"Sample item from dataset: input_ids shape: {sample_item['input_ids'].shape}, labels shape: {sample_item['labels'].shape}\")\n",
    "    dataloader = DataLoader(dataset, batch_size=4, shuffle=True)\n",
    "    print(f\"Created DataLoader with batch_size=4.\")\n",
    "else:\n",
    "    print(\"No tokenized data available to create Dataset/DataLoader.\")"
   ]
  },
  {
   "cell_type": "markdown",
   "metadata": {},
   "source": [
    "## Load Pre-trained Model (DistilGPT2)"
   ]
  },
  {
   "cell_type": "code",
   "execution_count": null,
   "metadata": {},
   "outputs": [],
   "source": [
    "from transformers import AutoModelForCausalLM\n",
    "\n",
    "model = None # Initialize model\n",
    "if 'model_name' in globals() and model_name: # model_name defined in tokenization cell\n",
    "    try:\n",
    "        model = AutoModelForCausalLM.from_pretrained(model_name)\n",
    "        print(f\"Pre-trained model '{model_name}' loaded successfully.\")\n",
    "    except Exception as e:\n",
    "        print(f\"Error loading pre-trained model: {e}\")\n",
    "else:\n",
    "    print(\"Model name not specified or not found. Cannot load model.\")"
   ]
  },
  {
   "cell_type": "markdown",
   "metadata": {},
   "source": [
    "## Fine-tuning the Model"
   ]
  },
  {
   "cell_type": "code",
   "execution_count": null,
   "metadata": {},
   "outputs": [],
   "source": [
    "import torch\n",
    "from torch.optim import AdamW\n",
    "import os # For output_dir creation\n",
    "\n",
    "fine_tuning_done = False # Flag to check if fine-tuning was attempted\n",
    "if model and dataloader:\n",
    "    device = torch.device('cuda' if torch.cuda.is_available() else 'cpu')\n",
    "    print(f\"Using device: {device}\")\n",
    "    model.to(device)\n",
    "\n",
    "    optimizer = AdamW(model.parameters(), lr=5e-5)\n",
    "    num_epochs = 1 # Keep it short for this exercise\n",
    "\n",
    "    print(\"Starting fine-tuning...\")\n",
    "    for epoch in range(num_epochs):\n",
    "        model.train()\n",
    "        total_loss = 0\n",
    "        batch_count = 0\n",
    "        for batch in dataloader: # Ensure dataloader is not None\n",
    "            batch_count += 1\n",
    "            if batch_count % 50 == 0: # Print progress every 50 batches\n",
    "                print(f\"  Epoch {epoch+1}, Batch {batch_count}/{len(dataloader)}\")\n",
    "            \n",
    "            optimizer.zero_grad()\n",
    "            input_ids = batch['input_ids'].to(device)\n",
    "            labels = batch['labels'].to(device)\n",
    "\n",
    "            outputs = model(input_ids, labels=labels)\n",
    "            loss = outputs.loss\n",
    "            if loss is not None:\n",
    "                loss.backward()\n",
    "                optimizer.step()\n",
    "                total_loss += loss.item()\n",
    "            else:\n",
    "                print(\"Warning: Loss is None for a batch. Skipping backward pass for this batch.\")\n",
    "        \n",
    "        if len(dataloader) > 0:\n",
    "            avg_loss = total_loss / len(dataloader)\n",
    "            print(f\"Epoch {epoch+1}/{num_epochs} - Average Loss: {avg_loss:.4f}\")\n",
    "        else:\n",
    "            print(f\"Epoch {epoch+1}/{num_epochs} - No data in dataloader.\")\n",
    "    print(\"Fine-tuning completed.\")\n",
    "    fine_tuning_done = True\n",
    "else:\n",
    "    print(\"Model or DataLoader not available. Skipping fine-tuning.\")"
   ]
  },
  {
   "cell_type": "markdown",
   "metadata": {},
   "source": [
    "## Save Fine-tuned Model"
   ]
  },
  {
   "cell_type": "code",
   "execution_count": null,
   "metadata": {},
   "outputs": [],
   "source": [
    "output_dir = './fine_tuned_distilgpt2_youtube_titles' # Define output_dir here for clarity\n",
    "if fine_tuning_done and model and tokenizer: # Check if fine-tuning was done, and model/tokenizer exist\n",
    "    try:\n",
    "        os.makedirs(output_dir, exist_ok=True)\n",
    "        model.save_pretrained(output_dir)\n",
    "        tokenizer.save_pretrained(output_dir)\n",
    "        print(f\"Model and tokenizer saved to {output_dir}\")\n",
    "    except Exception as e:\n",
    "        print(f\"Error saving model/tokenizer: {e}\")\n",
    "elif not fine_tuning_done:\n",
    "    print(\"Fine-tuning was not performed or completed. Skipping saving model.\")\n",
    "else:\n",
    "    print(\"Model or Tokenizer not available. Skipping saving.\")"
   ]
  },
  {
   "cell_type": "markdown",
   "metadata": {},
   "source": [
    "## Load Fine-tuned Model for Inference"
   ]
  },
  {
   "cell_type": "code",
   "execution_count": null,
   "metadata": {},
   "outputs": [],
   "source": [
    "from transformers import AutoModelForCausalLM, AutoTokenizer\n",
    "import torch\n",
    "import os\n",
    "\n",
    "fine_tuned_output_dir = './fine_tuned_distilgpt2_youtube_titles'\n",
    "inference_model = None\n",
    "inference_tokenizer = None\n",
    "\n",
    "if os.path.exists(fine_tuned_output_dir):\n",
    "    try:\n",
    "        inference_model = AutoModelForCausalLM.from_pretrained(fine_tuned_output_dir)\n",
    "        inference_tokenizer = AutoTokenizer.from_pretrained(fine_tuned_output_dir)\n",
    "        print(f\"Fine-tuned model and tokenizer loaded successfully from {fine_tuned_output_dir}.\")\n",
    "        \n",
    "        device = torch.device('cuda' if torch.cuda.is_available() else 'cpu')\n",
    "        inference_model.to(device)\n",
    "        inference_model.eval()\n",
    "        print(f\"Inference model moved to {device} and set to evaluation mode.\")\n",
    "    except Exception as e:\n",
    "        print(f\"Error loading fine-tuned model or tokenizer: {e}\")\n",
    "else:\n",
    "    print(f\"Fine-tuned model directory not found: {fine_tuned_output_dir}. Please ensure the model was trained and saved.\")"
   ]
  },
  {
   "cell_type": "markdown",
   "metadata": {},
   "source": [
    "## Text Generation with Fine-tuned Model"
   ]
  },
  {
   "cell_type": "code",
   "execution_count": null,
   "metadata": {},
   "outputs": [],
   "source": [
    "def generate_text(prompt, model, tokenizer, device, max_length=50, num_return_sequences=1):\n",
    "    if not model or not tokenizer:\n",
    "        print(\"Inference model or tokenizer not available for generation.\")\n",
    "        return []\n",
    "    try:\n",
    "        input_ids = tokenizer.encode(prompt, return_tensors='pt').to(device)\n",
    "        \n",
    "        # Generate text sequences\n",
    "        output_sequences = model.generate(\n",
    "            input_ids=input_ids,\n",
    "            max_length=max_length,\n",
    "            num_return_sequences=num_return_sequences,\n",
    "            no_repeat_ngram_size=2,  # To prevent repetitive phrases\n",
    "            early_stopping=True,     # Stop when EOS token is generated if applicable\n",
    "            pad_token_id=tokenizer.eos_token_id # Set pad_token_id to eos_token_id for open-ended generation\n",
    "        )\n",
    "        \n",
    "        generated_texts = []\n",
    "        for generated_sequence in output_sequences:\n",
    "            # Decode only up to the first EOS token if present, and skip special tokens\n",
    "            text = tokenizer.decode(generated_sequence, skip_special_tokens=True)\n",
    "            generated_texts.append(text)\n",
    "        return generated_texts\n",
    "    except Exception as e:\n",
    "        print(f\"Error during text generation: {e}\")\n",
    "        return []"
   ]
  },
  {
   "cell_type": "code",
   "execution_count": null,
   "metadata": {},
   "outputs": [],
   "source": [
    "if inference_model and inference_tokenizer:\n",
    "    prompts = [\n",
    "        \"How to make\", \n",
    "        \"The best budget\", \n",
    "        \"Understanding\",\n",
    "        \"DIY project for\",\n",
    "        \"Learn python\"\n",
    "    ]\n",
    "    \n",
    "    print(\"\\n--- Text Generation Demo ---\")\n",
    "    # Re-define device here if not accessible from the previous cell's scope directly in all execution contexts\n",
    "    current_device = torch.device('cuda' if torch.cuda.is_available() else 'cpu') \n",
    "\n",
    "    for p in prompts:\n",
    "        generated = generate_text(p, inference_model, inference_tokenizer, device=current_device, max_length=30) # Shorter max_length for titles\n",
    "        print(f\"\\nPrompt: {p}...\")\n",
    "        if generated:\n",
    "            for i, g in enumerate(generated):\n",
    "                print(f\"Generated {i+1}: {g}\")\n",
    "        else:\n",
    "            print(\"  (No text generated or error occurred)\")\n",
    "        print(\"-\" * 30)\n",
    "else:\n",
    "    print(\"Inference model or tokenizer not loaded. Cannot demonstrate text generation.\")"
   ]
  }
 ],
 "metadata": {
  "kernelspec": {
   "display_name": "Python 3",
   "language": "python",
   "name": "python3"
  },
  "language_info": {
   "codemirror_mode": {
    "name": "ipython",
    "version": 3
   },
   "file_extension": ".py",
   "mimetype": "text/x-python",
   "name": "python",
   "nbconvert_exporter": "python",
   "pygments_lexer": "ipython3",
   "version": "3.10.12"
  }
 },
 "nbformat": 4,
 "nbformat_minor": 5
}
