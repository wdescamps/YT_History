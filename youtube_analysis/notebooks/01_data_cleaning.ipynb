{
 "cells": [
  {
   "cell_type": "markdown",
   "id": "0",
   "metadata": {},
   "source": [
    "# YouTube Watch History Cleaning"
   ]
  },
  {
   "cell_type": "code",
   "execution_count": null,
   "id": "1",
   "metadata": {},
   "outputs": [],
   "source": [
    "# Code to load and parse watch-history.html will go here"
   ]
  },
  {
   "cell_type": "code",
   "execution_count": null,
   "id": "2",
   "metadata": {},
   "outputs": [],
   "source": [
    "from bs4 import BeautifulSoup\n",
    "import pandas as pd\n",
    "import re\n",
    "\n",
    "# Define the path to the watch history file\n",
    "watch_history_file = '../data/watch-history-light.html'\n",
    "\n",
    "# Open and read the HTML file\n",
    "with open(watch_history_file, 'r', encoding='utf-8') as f:\n",
    "    html_content = f.read()\n",
    "\n",
    "# Parse the HTML content\n",
    "soup = BeautifulSoup(html_content, 'html.parser')\n",
    "\n",
    "# Find all watch history entries\n",
    "entries = soup.find_all('div', class_='outer-cell mdl-cell mdl-cell--12-col mdl-shadow--2dp')\n",
    "\n",
    "data = []\n",
    "for entry in entries:\n",
    "    # Find the content cell\n",
    "    content_cell = entry.find('div', class_='content-cell mdl-cell mdl-cell--6-col mdl-typography--body-1')\n",
    "    if not content_cell:\n",
    "        continue\n",
    "\n",
    "    # Extract video title and URL\n",
    "    video_link = content_cell.find('a')\n",
    "    if not video_link:\n",
    "        continue\n",
    "    title = video_link.text.strip()\n",
    "    video_url = video_link['href']\n",
    "\n",
    "    # Extract channel name and timestamp\n",
    "    br_tag = content_cell.find('br')\n",
    "    if not br_tag:\n",
    "        continue\n",
    "    \n",
    "    channel_link = br_tag.find_next_sibling('a')\n",
    "    if not channel_link:\n",
    "        channel_name = 'N/A'\n",
    "    else:\n",
    "        channel_name = channel_link.text.strip()\n",
    "\n",
    "    all_text_nodes = content_cell.find_all(string=True, recursive=False)\n",
    "    timestamp_str = ''\n",
    "    for text_node in all_text_nodes:\n",
    "      clean_text = text_node.strip()\n",
    "      if re.match(r'\\w{3} \\d{1,2}, \\d{4}, \\d{1,2}:\\d{2}:\\d{2}\\s+(AM|PM)\\s+UTC', clean_text):\n",
    "        timestamp_str = clean_text\n",
    "        break\n",
    "    \n",
    "    if not timestamp_str:\n",
    "        last_br = content_cell.find_all('br')[-1] if content_cell.find_all('br') else None\n",
    "        if last_br and last_br.next_sibling and last_br.next_sibling.strip():\n",
    "            timestamp_str = last_br.next_sibling.strip()\n",
    "        else:\n",
    "            raw_text_parts = [text.strip() for text in content_cell.stripped_strings]\n",
    "            potential_timestamp = raw_text_parts[-1] if raw_text_parts else ''\n",
    "            if 'UTC' in potential_timestamp:\n",
    "                 timestamp_str = potential_timestamp\n",
    "            else:\n",
    "                 timestamp_str = 'N/A'\n",
    "\n",
    "    timestamp_utc = timestamp_str.replace(' UTC', '')\n",
    "\n",
    "    data.append({\n",
    "        'title': title,\n",
    "        'video_url': video_url,\n",
    "        'channel_name': channel_name,\n",
    "        'timestamp_utc': timestamp_utc\n",
    "    })\n",
    "\n",
    "df = pd.DataFrame(data)\n",
    "df.head()"
   ]
  },
  {
   "cell_type": "markdown",
   "id": "3",
   "metadata": {},
   "source": [
    "## Data Cleaning"
   ]
  },
  {
   "cell_type": "code",
   "execution_count": null,
   "id": "4",
   "metadata": {},
   "outputs": [],
   "source": [
    "# Display DataFrame information\n",
    "df.info()\n",
    "\n",
    "# Convert 'timestamp_utc' to datetime objects\n",
    "df['timestamp_utc'] = pd.to_datetime(df['timestamp_utc'], errors='coerce')\n",
    "\n",
    "# Check for rows with NaT in 'timestamp_utc'\n",
    "print(\"Rows with NaT in timestamp_utc after conversion:\")\n",
    "print(df[df['timestamp_utc'].isnull()])\n",
    "\n",
    "# Check for missing values\n",
    "print(\"\\nMissing values per column:\")\n",
    "print(df.isnull().sum())\n",
    "\n",
    "# Remove duplicate rows\n",
    "df.drop_duplicates(inplace=True)\n",
    "\n",
    "# Display shape after dropping duplicates\n",
    "print(f\"\\nShape after dropping duplicates: {df.shape}\")\n",
    "\n",
    "# Display the first few rows of the cleaned DataFrame\n",
    "print(\"\\nCleaned DataFrame head:\")\n",
    "df.head()"
   ]
  },
  {
   "cell_type": "markdown",
   "id": "5",
   "metadata": {},
   "source": [
    "## Save Cleaned Data"
   ]
  },
  {
   "cell_type": "code",
   "execution_count": null,
   "id": "6",
   "metadata": {},
   "outputs": [],
   "source": [
    "# Define the output path\n",
    "output_path = '../data/cleaned_watch_history.csv'\n",
    "\n",
    "# Save the DataFrame to a CSV file\n",
    "df.to_csv(output_path, index=False)\n",
    "\n",
    "# Print confirmation message\n",
    "print(f\"Cleaned data saved to {output_path}\")"
   ]
  }
 ],
 "metadata": {
  "kernelspec": {
   "display_name": "3.12.9",
   "language": "python",
   "name": "python3"
  },
  "language_info": {
   "codemirror_mode": {
    "name": "ipython",
    "version": 3
   },
   "file_extension": ".py",
   "mimetype": "text/x-python",
   "name": "python",
   "nbconvert_exporter": "python",
   "pygments_lexer": "ipython3",
   "version": "3.12.9"
  }
 },
 "nbformat": 4,
 "nbformat_minor": 5
}
